{
 "cells": [
  {
   "cell_type": "code",
   "execution_count": 1,
   "metadata": {},
   "outputs": [],
   "source": [
    "import torch\n",
    "from torchvision.transforms import v2\n",
    "from torch.utils.data import DataLoader, Dataset\n",
    "import os\n",
    "\n",
    "from img_methods import *"
   ]
  },
  {
   "cell_type": "code",
   "execution_count": 2,
   "metadata": {},
   "outputs": [],
   "source": [
    "H, W = 200, 200\n",
    "\n",
    "img_aug = v2.Compose([\n",
    "    v2.Grayscale(num_output_channels=1),\n",
    "    v2.RandomResizedCrop(size=(200, 200), antialias=True),\n",
    "    v2.RandomRotation(degrees=(0, 360)),\n",
    "    v2.RandomHorizontalFlip(p=0.5),\n",
    "    v2.RandomVerticalFlip(p=0.5),\n",
    "    v2.ToDtype(torch.float32, scale=True),\n",
    "    v2.PILToTensor(),\n",
    "])\n",
    "\n",
    "class DinoNuggieDataset(Dataset):\n",
    "    def __init__(self, root_dir, transform=None):\n",
    "        self.root = root_dir\n",
    "        self.transform = transform\n",
    "        self.file_list = []\n",
    "        \n",
    "        for folder in os.listdir(root_dir):\n",
    "            if folder == 'mis':\n",
    "                continue\n",
    "            folder_fp = os.path.join(root_dir, folder) \n",
    "            for img in os.listdir(folder_fp):\n",
    "                self.file_list.append(os.path.join(folder_fp, img))\n",
    "        \n",
    "    def __len__(self):\n",
    "        return len(self.file_list)\n",
    "    \n",
    "    def __getitem__(self, idx):\n",
    "        img = Image.open(self.file_list[idx])\n",
    "        if self.transform:\n",
    "            img = self.transform(img)\n",
    "        return img\n",
    "    \n",
    "    \n",
    "current_dir = os.getcwd()\n",
    "project_dir = os.path.dirname(current_dir)\n",
    "images_dir = os.path.join(project_dir, 'images')\n",
    "    \n",
    "normal_dataset = DinoNuggieDataset(root_dir = images_dir, transform=img_aug)\n",
    "normal_dataloader = DataLoader(normal_dataset, batch_size=1, shuffle=True)\n"
   ]
  },
  {
   "cell_type": "code",
   "execution_count": 5,
   "metadata": {},
   "outputs": [],
   "source": [
    "normal_flattened = [torch.flatten(img).numpy() for batch in normal_dataloader for img in batch]"
   ]
  },
  {
   "cell_type": "code",
   "execution_count": null,
   "metadata": {},
   "outputs": [],
   "source": []
  }
 ],
 "metadata": {
  "kernelspec": {
   "display_name": "cv",
   "language": "python",
   "name": "python3"
  },
  "language_info": {
   "codemirror_mode": {
    "name": "ipython",
    "version": 3
   },
   "file_extension": ".py",
   "mimetype": "text/x-python",
   "name": "python",
   "nbconvert_exporter": "python",
   "pygments_lexer": "ipython3",
   "version": "3.10.0"
  }
 },
 "nbformat": 4,
 "nbformat_minor": 2
}
