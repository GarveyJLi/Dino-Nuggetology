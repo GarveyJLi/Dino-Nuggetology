{
 "cells": [
  {
   "cell_type": "code",
   "execution_count": 15,
   "metadata": {},
   "outputs": [],
   "source": [
    "import os\n",
    "import numpy as np\n",
    "from PIL import Image\n",
    "import img_pipeline\n",
    "import matplotlib.pyplot as plt"
   ]
  },
  {
   "cell_type": "code",
   "execution_count": 16,
   "metadata": {},
   "outputs": [],
   "source": [
    "#full_img_fp = 'C:\\\\Users\\\\So\\\\Documents\\\\code\\\\dino_nuggies_project\\\\images'\n",
    "#small_img_fp = 'C:\\\\Users\\\\So\\\\Documents\\\\code\\\\datahacks_2024\\\\images'\n",
    "\n",
    "current_dir = os.getcwd()\n",
    "project_dir = os.path.dirname(current_dir)\n",
    "small_img_fp = os.path.join(project_dir, 'images')\n",
    "full_img_fp = os.path.join(project_dir, 'raw_images')"
   ]
  },
  {
   "cell_type": "code",
   "execution_count": 19,
   "metadata": {},
   "outputs": [
    {
     "name": "stdout",
     "output_type": "stream",
     "text": [
      "[193.06994583 176.25652104 168.23074783 164.64697013 162.44740901\n",
      " 162.02842307 162.75908466 162.77170706 161.95728549 161.36183503\n",
      " 160.21147203 157.70203807 154.63645634 151.73963235 149.48284156\n",
      " 147.99508203 146.52156596 144.90718092 144.21432961 144.34007794\n",
      " 143.76211556 141.92149379 139.41720379 137.15829318 137.35189265\n",
      " 140.49927523 143.69293839 145.7782926  147.27778298 148.7914464\n",
      " 150.75329212 152.6908806  155.55959534 160.79103495 166.84274637\n",
      " 171.803368   175.7011791  179.2587109  182.83620966 186.43062488\n",
      " 189.78142229 192.71360023 195.75152612 199.19125093 202.60533692\n",
      " 206.75213405 211.73533698 214.93703516 215.28659761 215.35364742\n",
      " 218.4486067  224.76751929 231.56389485 236.83832437 240.13577764\n",
      " 242.09444517 244.00879272 245.59325493 245.49751951 244.21412766\n",
      " 243.3582219  243.96682649 246.10742785 247.97633069 248.3422219\n",
      " 248.59544557 249.79493775 252.01997978 255.         255.\n",
      " 255.         255.         255.         255.         255.\n",
      " 255.         255.         255.         255.         255.\n",
      " 255.         255.         255.         255.         255.\n",
      " 255.         255.         255.         255.         255.\n",
      " 255.         255.         255.         255.         255.\n",
      " 255.         255.         255.         255.         255.\n",
      " 255.         255.         255.         255.         255.\n",
      " 255.         255.         255.         255.         255.\n",
      " 255.         255.         255.         255.         255.\n",
      " 255.         255.         255.         255.         255.\n",
      " 255.         255.         255.         255.         255.\n",
      " 255.         255.         255.         255.         255.\n",
      " 255.         255.         255.         255.         255.\n",
      " 255.         255.         255.         255.         255.\n",
      " 255.         255.         255.         255.         249.66403737\n",
      " 243.80590029 240.06857734 237.89089977 235.44709897 232.52770336\n",
      " 229.63206068 226.7387521  223.61681659 219.70773774 215.32356306\n",
      " 211.07072444 205.77880574 199.14806237 193.54154671 190.48237444\n",
      " 188.90140406 186.26451452 181.3481016  176.17678533 172.9369158\n",
      " 171.99507567 173.07552698 174.18369584 175.06279745 176.78155597\n",
      " 178.93278952 181.50646383 184.98219797 188.83373921 192.77639753\n",
      " 197.17097188 201.36117819 203.99128099 204.45700272 203.86239229\n",
      " 204.29894185 206.60855639 211.05970412 217.36567526 224.61901994\n",
      " 231.9934641  237.07811571 238.50810963 238.0305827  238.21523949\n",
      " 240.00241992 241.4834379  241.05982594 240.03427265 241.03425736\n",
      " 245.37969099 250.70188125 252.90326759 248.34949895 255.        ]\n",
      "c:\\Users\\garve\\VSC_Python\\datahacks_2024\\images\\rex\\rex_00.jpeg\n"
     ]
    },
    {
     "data": {
      "image/png": "[encoded data removed]",
      "text/plain": [
       "<Figure size 640x480 with 1 Axes>"
      ]
     },
     "metadata": {},
     "output_type": "display_data"
    }
   ],
   "source": [
    "types = ['rex', 'tri', 'par', 'pte', 'bro', 'kro', 'ste', 'mis']\n",
    "rotation_degrees = np.arange(0, 360, 15)\n",
    "reg_mirrored = ['reg', 'mirrored']\n",
    "\n",
    "for t in types:\n",
    "    full_folder = os.path.join(full_img_fp, t)\n",
    "    small_folder = os.path.join(small_img_fp, t)\n",
    "    img_count = 0\n",
    "    \n",
    "    for img_name in os.listdir(full_folder):\n",
    "        full_img_path = os.path.join(full_folder, img_name)\n",
    "        image_arrs = img_pipeline.process_image(full_img_path)\n",
    "        version_count = 0\n",
    "        # Array of rotated and mirrored images\n",
    "        for image_arr in image_arrs:    \n",
    "            small_image = Image.fromarray(image_arr).convert('RGB')\n",
    "            print(image_arr)\n",
    "            plt.imshow(small_image)\n",
    "            small_img_path = os.path.join(small_folder, t + '_' + str(img_count) + str(version_count) + '.jpeg')\n",
    "            print(small_img_path)\n",
    "            small_image.save(small_img_path)\n",
    "            version_count += 1\n",
    "            break\n",
    "        img_count += 1\n",
    "        \n",
    "        break\n",
    "    break"
   ]
  },
  {
   "cell_type": "code",
   "execution_count": null,
   "metadata": {},
   "outputs": [],
   "source": []
  }
 ],
 "metadata": {
  "kernelspec": {
   "display_name": "dsc80",
   "language": "python",
   "name": "python3"
  },
  "language_info": {
   "codemirror_mode": {
    "name": "ipython",
    "version": 3
   },
   "file_extension": ".py",
   "mimetype": "text/x-python",
   "name": "python",
   "nbconvert_exporter": "python",
   "pygments_lexer": "ipython3",
   "version": "3.8.13"
  }
 },
 "nbformat": 4,
 "nbformat_minor": 2
}
