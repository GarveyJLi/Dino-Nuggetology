{
 "cells": [
  {
   "cell_type": "markdown",
   "metadata": {},
   "source": [
    "# Dino-Nuggetology\n",
    "* Team Decaffeinated – So Hirota, Penny King, Garvey Li\n",
    "\n",
    "In this notebook you will be able to use and demo our dino nugget classification model using various photos of dino nuggets."
   ]
  },
  {
   "cell_type": "markdown",
   "metadata": {},
   "source": [
    "First let's import the necessary packages:"
   ]
  },
  {
   "cell_type": "code",
   "execution_count": null,
   "metadata": {},
   "outputs": [],
   "source": [
    "# import __ \n",
    "# import ___"
   ]
  },
  {
   "cell_type": "markdown",
   "metadata": {},
   "source": [
    "Now we can use the model."
   ]
  },
  {
   "cell_type": "markdown",
   "metadata": {},
   "source": [
    "### Tutorial\n",
    "Here is an picture of a triceratops dino nugget at the path `demo_imgs/tri_demo.jpg`\n",
    "\n",
    "<img src='demo_imgs/tri_demo.jpg' height = 200 width = 200/>\n",
    "\n",
    "Let's use the model to classify the dino species."
   ]
  },
  {
   "cell_type": "code",
   "execution_count": null,
   "metadata": {},
   "outputs": [],
   "source": [
    "# DEMO 1"
   ]
  },
  {
   "cell_type": "markdown",
   "metadata": {},
   "source": [
    "Here is another example using a deformed dino nugget.\n",
    "\n",
    "Below is the picture we will use. The path is: `demo_imgs/deformed_demo.jpg`\n",
    "\n",
    "<img src='demo_imgs/deformed_demo.jpg' height = 200 width = 200/>\n"
   ]
  },
  {
   "cell_type": "code",
   "execution_count": null,
   "metadata": {},
   "outputs": [],
   "source": [
    "# DEMO 2"
   ]
  },
  {
   "cell_type": "markdown",
   "metadata": {},
   "source": [
    "### Your Turn!\n",
    "Feel free to try on your own now. You can find various different images to use for the model in the folder `demo_imgs\\`"
   ]
  },
  {
   "cell_type": "code",
   "execution_count": null,
   "metadata": {},
   "outputs": [],
   "source": [
    "# your code here"
   ]
  }
 ],
 "metadata": {
  "language_info": {
   "name": "python"
  }
 },
 "nbformat": 4,
 "nbformat_minor": 2
}
