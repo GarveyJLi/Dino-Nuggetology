{
 "cells": [
  {
   "cell_type": "code",
   "execution_count": 121,
   "metadata": {},
   "outputs": [],
   "source": [
    "import numpy as np\n",
    "import pandas as pd\n",
    "import tensorflow as tf\n",
    "from tensorflow.keras import layers\n",
    "from matplotlib import pyplot as plt\n",
    "from PIL import Image\n",
    "import numpy as np\n",
    "import os\n",
    "from __future__ import absolute_import, division, print_function, unicode_literals"
   ]
  },
  {
   "cell_type": "code",
   "execution_count": 122,
   "metadata": {},
   "outputs": [],
   "source": [
    "classes = ['bro', 'kro', 'par', 'pte', 'rex', 'ste', 'tri']\n",
    "class_nums = {\n",
    "    'bro' : 0, \n",
    "    'kro': 1, \n",
    "    'par' : 2, \n",
    "    'pte': 3, \n",
    "    'rex': 4, \n",
    "    'ste' : 5, \n",
    "    'tri' : 6\n",
    "}\n",
    "dataset = []\n",
    "\n",
    "for c in classes:\n",
    "    path = 'images/'+ c + '/' + c +'_'\n",
    "    going = True\n",
    "    count = 0\n",
    "    while going:\n",
    "        image_path = path + str(count) + '.jpeg'\n",
    "\n",
    "        if not os.path.isfile(image_path):\n",
    "            going = False \n",
    "            break\n",
    "        \n",
    "        image = Image.open(image_path)\n",
    "        \n",
    "        # Convert the image to grayscale\n",
    "        gray_image = image.convert('L')\n",
    "\n",
    "        # Convert the grayscale image to a NumPy array\n",
    "        image_array = np.array(gray_image)\n",
    "\n",
    "        # Threshold the image to get a binary image\n",
    "        threshold = 128\n",
    "        binary_image = (image_array > threshold).astype(np.uint8)\n",
    "\n",
    "        dataset.append([binary_image, c])\n",
    "        count += 1\n",
    "\n",
    "np.random.shuffle(dataset)"
   ]
  },
  {
   "cell_type": "code",
   "execution_count": 123,
   "metadata": {},
   "outputs": [
    {
     "name": "stdout",
     "output_type": "stream",
     "text": [
      "Loaded the plot_curve function.\n"
     ]
    }
   ],
   "source": [
    "# get train-valid data\n",
    "train_num = int(len(dataset) * 0.75)\n",
    "train_data = dataset[0:train_num]\n",
    "valid_data = dataset[train_num:]\n",
    "x_train = np.array([np.array(d[0]) for d in train_data])\n",
    "y_train = np.array([class_nums[d[1]] for d in train_data])\n",
    "x_test = np.array([d[0] for d in valid_data])\n",
    "y_test = np.array([class_nums[d[1]] for d in valid_data])"
   ]
  },
  {
   "cell_type": "code",
   "execution_count": 132,
   "metadata": {},
   "outputs": [],
   "source": [
    "def create_model(lr):\n",
    "  ''' \n",
    "  neural network model\n",
    "  returns model\n",
    "  '''\n",
    "  model = tf.keras.models.Sequential()\n",
    "  # Flatten 2d array into 1d array\n",
    "  model.add(tf.keras.layers.Flatten(input_shape=(200, 200)))\n",
    "\n",
    "  # LAYERS #\n",
    "  # first hidden \n",
    "  model.add(tf.keras.layers.Dense(units=32, activation='relu'))\n",
    "  # dropout regularization\n",
    "  model.add(tf.keras.layers.Dropout(rate=0.1))\n",
    "  # test and dropout\n",
    "  model.add(tf.keras.layers.Dense(units=32, activation='relu'))\n",
    "  model.add(tf.keras.layers.Dropout(rate=0.1))\n",
    "  model.add(tf.keras.layers.Dense(units=10, activation='softmax'))   \n",
    "\n",
    "  model.compile(optimizer=tf.keras.optimizers.Adam(learning_rate=lr),\n",
    "                loss=\"sparse_categorical_crossentropy\",\n",
    "                metrics=['accuracy'])\n",
    "  \n",
    "  return model    \n",
    "\n",
    "def train_model(model, train_features, train_label, epochs, batch_size=None, validation_split=0.1):\n",
    "  \n",
    "  # fit mdl\n",
    "  history = model.fit(\n",
    "    x=train_features, y=train_label, \n",
    "    batch_size=batch_size, epochs=epochs, \n",
    "    shuffle=True , validation_split=validation_split)\n",
    "  epochs = history.epoch\n",
    "  hist = pd.DataFrame(history.history)\n",
    "  return epochs, hist"
   ]
  },
  {
   "cell_type": "code",
   "execution_count": 133,
   "metadata": {},
   "outputs": [
    {
     "name": "stdout",
     "output_type": "stream",
     "text": [
      "Epoch 1/50\n"
     ]
    },
    {
     "name": "stderr",
     "output_type": "stream",
     "text": [
      "/Users/penelopeking/Desktop/Projects/datahacks_2024/.conda/lib/python3.11/site-packages/keras/src/layers/reshaping/flatten.py:37: UserWarning: Do not pass an `input_shape`/`input_dim` argument to a layer. When using Sequential models, prefer using an `Input(shape)` object as the first layer in the model instead.\n",
      "  super().__init__(**kwargs)\n"
     ]
    },
    {
     "name": "stdout",
     "output_type": "stream",
     "text": [
      "\u001b[1m1/1\u001b[0m \u001b[32m━━━━━━━━━━━━━━━━━━━━\u001b[0m\u001b[37m\u001b[0m \u001b[1m1s\u001b[0m 1s/step - accuracy: 0.1057 - loss: 2.2590 - val_accuracy: 0.4516 - val_loss: 2.2000\n",
      "Epoch 2/50\n",
      "\u001b[1m1/1\u001b[0m \u001b[32m━━━━━━━━━━━━━━━━━━━━\u001b[0m\u001b[37m\u001b[0m \u001b[1m0s\u001b[0m 82ms/step - accuracy: 0.3496 - loss: 2.7302 - val_accuracy: 0.3226 - val_loss: 2.0511\n",
      "Epoch 3/50\n",
      "\u001b[1m1/1\u001b[0m \u001b[32m━━━━━━━━━━━━━━━━━━━━\u001b[0m\u001b[37m\u001b[0m \u001b[1m0s\u001b[0m 91ms/step - accuracy: 0.4309 - loss: 1.6582 - val_accuracy: 0.2903 - val_loss: 1.8240\n",
      "Epoch 4/50\n",
      "\u001b[1m1/1\u001b[0m \u001b[32m━━━━━━━━━━━━━━━━━━━━\u001b[0m\u001b[37m\u001b[0m \u001b[1m0s\u001b[0m 84ms/step - accuracy: 0.5447 - loss: 1.2859 - val_accuracy: 0.4839 - val_loss: 1.6397\n",
      "Epoch 5/50\n",
      "\u001b[1m1/1\u001b[0m \u001b[32m━━━━━━━━━━━━━━━━━━━━\u001b[0m\u001b[37m\u001b[0m \u001b[1m0s\u001b[0m 83ms/step - accuracy: 0.6341 - loss: 0.9789 - val_accuracy: 0.3871 - val_loss: 1.8861\n",
      "Epoch 6/50\n",
      "\u001b[1m1/1\u001b[0m \u001b[32m━━━━━━━━━━━━━━━━━━━━\u001b[0m\u001b[37m\u001b[0m \u001b[1m0s\u001b[0m 84ms/step - accuracy: 0.6748 - loss: 0.8169 - val_accuracy: 0.3548 - val_loss: 1.8791\n",
      "Epoch 7/50\n",
      "\u001b[1m1/1\u001b[0m \u001b[32m━━━━━━━━━━━━━━━━━━━━\u001b[0m\u001b[37m\u001b[0m \u001b[1m0s\u001b[0m 84ms/step - accuracy: 0.7642 - loss: 0.6789 - val_accuracy: 0.3226 - val_loss: 1.7686\n",
      "Epoch 8/50\n",
      "\u001b[1m1/1\u001b[0m \u001b[32m━━━━━━━━━━━━━━━━━━━━\u001b[0m\u001b[37m\u001b[0m \u001b[1m0s\u001b[0m 86ms/step - accuracy: 0.8211 - loss: 0.5279 - val_accuracy: 0.3871 - val_loss: 1.6859\n",
      "Epoch 9/50\n",
      "\u001b[1m1/1\u001b[0m \u001b[32m━━━━━━━━━━━━━━━━━━━━\u001b[0m\u001b[37m\u001b[0m \u001b[1m0s\u001b[0m 78ms/step - accuracy: 0.8455 - loss: 0.4738 - val_accuracy: 0.4516 - val_loss: 1.6363\n",
      "Epoch 10/50\n",
      "\u001b[1m1/1\u001b[0m \u001b[32m━━━━━━━━━━━━━━━━━━━━\u001b[0m\u001b[37m\u001b[0m \u001b[1m0s\u001b[0m 85ms/step - accuracy: 0.8537 - loss: 0.4479 - val_accuracy: 0.4516 - val_loss: 1.6089\n",
      "Epoch 11/50\n",
      "\u001b[1m1/1\u001b[0m \u001b[32m━━━━━━━━━━━━━━━━━━━━\u001b[0m\u001b[37m\u001b[0m \u001b[1m0s\u001b[0m 89ms/step - accuracy: 0.8862 - loss: 0.3724 - val_accuracy: 0.4839 - val_loss: 1.6292\n",
      "Epoch 12/50\n",
      "\u001b[1m1/1\u001b[0m \u001b[32m━━━━━━━━━━━━━━━━━━━━\u001b[0m\u001b[37m\u001b[0m \u001b[1m0s\u001b[0m 85ms/step - accuracy: 0.9512 - loss: 0.2531 - val_accuracy: 0.4516 - val_loss: 1.6885\n",
      "Epoch 13/50\n",
      "\u001b[1m1/1\u001b[0m \u001b[32m━━━━━━━━━━━━━━━━━━━━\u001b[0m\u001b[37m\u001b[0m \u001b[1m0s\u001b[0m 85ms/step - accuracy: 0.9350 - loss: 0.2262 - val_accuracy: 0.4516 - val_loss: 1.7560\n",
      "Epoch 14/50\n",
      "\u001b[1m1/1\u001b[0m \u001b[32m━━━━━━━━━━━━━━━━━━━━\u001b[0m\u001b[37m\u001b[0m \u001b[1m0s\u001b[0m 88ms/step - accuracy: 0.9431 - loss: 0.1947 - val_accuracy: 0.5161 - val_loss: 1.8130\n",
      "Epoch 15/50\n",
      "\u001b[1m1/1\u001b[0m \u001b[32m━━━━━━━━━━━━━━━━━━━━\u001b[0m\u001b[37m\u001b[0m \u001b[1m0s\u001b[0m 81ms/step - accuracy: 0.9187 - loss: 0.1955 - val_accuracy: 0.5161 - val_loss: 1.8376\n",
      "Epoch 16/50\n",
      "\u001b[1m1/1\u001b[0m \u001b[32m━━━━━━━━━━━━━━━━━━━━\u001b[0m\u001b[37m\u001b[0m \u001b[1m0s\u001b[0m 83ms/step - accuracy: 0.9593 - loss: 0.1102 - val_accuracy: 0.5161 - val_loss: 1.8622\n",
      "Epoch 17/50\n",
      "\u001b[1m1/1\u001b[0m \u001b[32m━━━━━━━━━━━━━━━━━━━━\u001b[0m\u001b[37m\u001b[0m \u001b[1m0s\u001b[0m 150ms/step - accuracy: 0.9512 - loss: 0.1677 - val_accuracy: 0.4516 - val_loss: 1.9179\n",
      "Epoch 18/50\n",
      "\u001b[1m1/1\u001b[0m \u001b[32m━━━━━━━━━━━━━━━━━━━━\u001b[0m\u001b[37m\u001b[0m \u001b[1m0s\u001b[0m 83ms/step - accuracy: 0.9431 - loss: 0.1413 - val_accuracy: 0.4839 - val_loss: 1.9774\n",
      "Epoch 19/50\n",
      "\u001b[1m1/1\u001b[0m \u001b[32m━━━━━━━━━━━━━━━━━━━━\u001b[0m\u001b[37m\u001b[0m \u001b[1m0s\u001b[0m 79ms/step - accuracy: 0.9593 - loss: 0.0900 - val_accuracy: 0.5161 - val_loss: 2.0387\n",
      "Epoch 20/50\n",
      "\u001b[1m1/1\u001b[0m \u001b[32m━━━━━━━━━━━━━━━━━━━━\u001b[0m\u001b[37m\u001b[0m \u001b[1m0s\u001b[0m 83ms/step - accuracy: 0.9919 - loss: 0.0649 - val_accuracy: 0.4839 - val_loss: 2.1101\n",
      "Epoch 21/50\n",
      "\u001b[1m1/1\u001b[0m \u001b[32m━━━━━━━━━━━━━━━━━━━━\u001b[0m\u001b[37m\u001b[0m \u001b[1m0s\u001b[0m 90ms/step - accuracy: 0.9675 - loss: 0.0920 - val_accuracy: 0.4839 - val_loss: 2.2060\n",
      "Epoch 22/50\n",
      "\u001b[1m1/1\u001b[0m \u001b[32m━━━━━━━━━━━━━━━━━━━━\u001b[0m\u001b[37m\u001b[0m \u001b[1m0s\u001b[0m 86ms/step - accuracy: 0.9675 - loss: 0.1064 - val_accuracy: 0.4839 - val_loss: 2.2693\n",
      "Epoch 23/50\n",
      "\u001b[1m1/1\u001b[0m \u001b[32m━━━━━━━━━━━━━━━━━━━━\u001b[0m\u001b[37m\u001b[0m \u001b[1m0s\u001b[0m 85ms/step - accuracy: 0.9756 - loss: 0.0482 - val_accuracy: 0.4839 - val_loss: 2.3039\n",
      "Epoch 24/50\n",
      "\u001b[1m1/1\u001b[0m \u001b[32m━━━━━━━━━━━━━━━━━━━━\u001b[0m\u001b[37m\u001b[0m \u001b[1m0s\u001b[0m 87ms/step - accuracy: 0.9919 - loss: 0.0482 - val_accuracy: 0.4839 - val_loss: 2.3309\n",
      "Epoch 25/50\n",
      "\u001b[1m1/1\u001b[0m \u001b[32m━━━━━━━━━━━━━━━━━━━━\u001b[0m\u001b[37m\u001b[0m \u001b[1m0s\u001b[0m 85ms/step - accuracy: 0.9837 - loss: 0.0601 - val_accuracy: 0.4839 - val_loss: 2.3517\n",
      "Epoch 26/50\n",
      "\u001b[1m1/1\u001b[0m \u001b[32m━━━━━━━━━━━━━━━━━━━━\u001b[0m\u001b[37m\u001b[0m \u001b[1m0s\u001b[0m 83ms/step - accuracy: 0.9756 - loss: 0.0919 - val_accuracy: 0.5161 - val_loss: 2.3739\n",
      "Epoch 27/50\n",
      "\u001b[1m1/1\u001b[0m \u001b[32m━━━━━━━━━━━━━━━━━━━━\u001b[0m\u001b[37m\u001b[0m \u001b[1m0s\u001b[0m 98ms/step - accuracy: 0.9756 - loss: 0.0943 - val_accuracy: 0.5806 - val_loss: 2.3843\n",
      "Epoch 28/50\n",
      "\u001b[1m1/1\u001b[0m \u001b[32m━━━━━━━━━━━━━━━━━━━━\u001b[0m\u001b[37m\u001b[0m \u001b[1m0s\u001b[0m 82ms/step - accuracy: 0.9675 - loss: 0.0555 - val_accuracy: 0.5806 - val_loss: 2.4216\n",
      "Epoch 29/50\n",
      "\u001b[1m1/1\u001b[0m \u001b[32m━━━━━━━━━━━━━━━━━━━━\u001b[0m\u001b[37m\u001b[0m \u001b[1m0s\u001b[0m 83ms/step - accuracy: 0.9837 - loss: 0.0476 - val_accuracy: 0.6129 - val_loss: 2.4650\n",
      "Epoch 30/50\n",
      "\u001b[1m1/1\u001b[0m \u001b[32m━━━━━━━━━━━━━━━━━━━━\u001b[0m\u001b[37m\u001b[0m \u001b[1m0s\u001b[0m 82ms/step - accuracy: 0.9756 - loss: 0.0550 - val_accuracy: 0.6129 - val_loss: 2.5093\n",
      "Epoch 31/50\n",
      "\u001b[1m1/1\u001b[0m \u001b[32m━━━━━━━━━━━━━━━━━━━━\u001b[0m\u001b[37m\u001b[0m \u001b[1m0s\u001b[0m 82ms/step - accuracy: 0.9512 - loss: 0.0989 - val_accuracy: 0.6129 - val_loss: 2.5502\n",
      "Epoch 32/50\n",
      "\u001b[1m1/1\u001b[0m \u001b[32m━━━━━━━━━━━━━━━━━━━━\u001b[0m\u001b[37m\u001b[0m \u001b[1m0s\u001b[0m 88ms/step - accuracy: 0.9837 - loss: 0.0636 - val_accuracy: 0.6129 - val_loss: 2.6044\n",
      "Epoch 33/50\n",
      "\u001b[1m1/1\u001b[0m \u001b[32m━━━━━━━━━━━━━━━━━━━━\u001b[0m\u001b[37m\u001b[0m \u001b[1m0s\u001b[0m 86ms/step - accuracy: 0.9919 - loss: 0.0162 - val_accuracy: 0.6129 - val_loss: 2.6510\n",
      "Epoch 34/50\n",
      "\u001b[1m1/1\u001b[0m \u001b[32m━━━━━━━━━━━━━━━━━━━━\u001b[0m\u001b[37m\u001b[0m \u001b[1m0s\u001b[0m 86ms/step - accuracy: 1.0000 - loss: 0.0209 - val_accuracy: 0.6452 - val_loss: 2.7012\n",
      "Epoch 35/50\n",
      "\u001b[1m1/1\u001b[0m \u001b[32m━━━━━━━━━━━━━━━━━━━━\u001b[0m\u001b[37m\u001b[0m \u001b[1m0s\u001b[0m 87ms/step - accuracy: 0.9756 - loss: 0.0649 - val_accuracy: 0.6129 - val_loss: 2.7488\n",
      "Epoch 36/50\n",
      "\u001b[1m1/1\u001b[0m \u001b[32m━━━━━━━━━━━━━━━━━━━━\u001b[0m\u001b[37m\u001b[0m \u001b[1m0s\u001b[0m 81ms/step - accuracy: 1.0000 - loss: 0.0145 - val_accuracy: 0.6129 - val_loss: 2.7811\n",
      "Epoch 37/50\n",
      "\u001b[1m1/1\u001b[0m \u001b[32m━━━━━━━━━━━━━━━━━━━━\u001b[0m\u001b[37m\u001b[0m \u001b[1m0s\u001b[0m 84ms/step - accuracy: 0.9675 - loss: 0.1327 - val_accuracy: 0.6129 - val_loss: 2.7628\n",
      "Epoch 38/50\n",
      "\u001b[1m1/1\u001b[0m \u001b[32m━━━━━━━━━━━━━━━━━━━━\u001b[0m\u001b[37m\u001b[0m \u001b[1m0s\u001b[0m 83ms/step - accuracy: 0.9837 - loss: 0.0398 - val_accuracy: 0.6129 - val_loss: 2.7224\n",
      "Epoch 39/50\n",
      "\u001b[1m1/1\u001b[0m \u001b[32m━━━━━━━━━━━━━━━━━━━━\u001b[0m\u001b[37m\u001b[0m \u001b[1m0s\u001b[0m 85ms/step - accuracy: 0.9756 - loss: 0.0462 - val_accuracy: 0.6129 - val_loss: 2.6954\n",
      "Epoch 40/50\n",
      "\u001b[1m1/1\u001b[0m \u001b[32m━━━━━━━━━━━━━━━━━━━━\u001b[0m\u001b[37m\u001b[0m \u001b[1m0s\u001b[0m 85ms/step - accuracy: 0.9837 - loss: 0.0332 - val_accuracy: 0.6452 - val_loss: 2.6590\n",
      "Epoch 41/50\n",
      "\u001b[1m1/1\u001b[0m \u001b[32m━━━━━━━━━━━━━━━━━━━━\u001b[0m\u001b[37m\u001b[0m \u001b[1m0s\u001b[0m 83ms/step - accuracy: 0.9919 - loss: 0.0373 - val_accuracy: 0.6452 - val_loss: 2.6365\n",
      "Epoch 42/50\n",
      "\u001b[1m1/1\u001b[0m \u001b[32m━━━━━━━━━━━━━━━━━━━━\u001b[0m\u001b[37m\u001b[0m \u001b[1m0s\u001b[0m 106ms/step - accuracy: 0.9919 - loss: 0.0199 - val_accuracy: 0.6452 - val_loss: 2.6100\n",
      "Epoch 43/50\n",
      "\u001b[1m1/1\u001b[0m \u001b[32m━━━━━━━━━━━━━━━━━━━━\u001b[0m\u001b[37m\u001b[0m \u001b[1m0s\u001b[0m 84ms/step - accuracy: 0.9593 - loss: 0.0705 - val_accuracy: 0.6452 - val_loss: 2.5680\n",
      "Epoch 44/50\n",
      "\u001b[1m1/1\u001b[0m \u001b[32m━━━━━━━━━━━━━━━━━━━━\u001b[0m\u001b[37m\u001b[0m \u001b[1m0s\u001b[0m 89ms/step - accuracy: 1.0000 - loss: 0.0137 - val_accuracy: 0.5806 - val_loss: 2.5518\n",
      "Epoch 45/50\n",
      "\u001b[1m1/1\u001b[0m \u001b[32m━━━━━━━━━━━━━━━━━━━━\u001b[0m\u001b[37m\u001b[0m \u001b[1m0s\u001b[0m 89ms/step - accuracy: 0.9919 - loss: 0.0313 - val_accuracy: 0.5806 - val_loss: 2.5484\n",
      "Epoch 46/50\n",
      "\u001b[1m1/1\u001b[0m \u001b[32m━━━━━━━━━━━━━━━━━━━━\u001b[0m\u001b[37m\u001b[0m \u001b[1m0s\u001b[0m 87ms/step - accuracy: 0.9512 - loss: 0.1088 - val_accuracy: 0.5806 - val_loss: 2.5722\n",
      "Epoch 47/50\n",
      "\u001b[1m1/1\u001b[0m \u001b[32m━━━━━━━━━━━━━━━━━━━━\u001b[0m\u001b[37m\u001b[0m \u001b[1m0s\u001b[0m 87ms/step - accuracy: 0.9837 - loss: 0.0577 - val_accuracy: 0.5806 - val_loss: 2.5955\n",
      "Epoch 48/50\n",
      "\u001b[1m1/1\u001b[0m \u001b[32m━━━━━━━━━━━━━━━━━━━━\u001b[0m\u001b[37m\u001b[0m \u001b[1m0s\u001b[0m 86ms/step - accuracy: 0.9837 - loss: 0.0309 - val_accuracy: 0.5806 - val_loss: 2.6150\n",
      "Epoch 49/50\n",
      "\u001b[1m1/1\u001b[0m \u001b[32m━━━━━━━━━━━━━━━━━━━━\u001b[0m\u001b[37m\u001b[0m \u001b[1m0s\u001b[0m 85ms/step - accuracy: 0.9756 - loss: 0.0924 - val_accuracy: 0.5806 - val_loss: 2.6396\n",
      "Epoch 50/50\n",
      "\u001b[1m1/1\u001b[0m \u001b[32m━━━━━━━━━━━━━━━━━━━━\u001b[0m\u001b[37m\u001b[0m \u001b[1m0s\u001b[0m 164ms/step - accuracy: 0.9837 - loss: 0.0323 - val_accuracy: 0.5806 - val_loss: 2.6497\n"
     ]
    }
   ],
   "source": [
    "# hyperparams\n",
    "lr = 0.003\n",
    "epochs = 50\n",
    "batch_size = 4000\n",
    "validation_split = 0.2\n",
    "\n",
    "# Train the model from training set\n",
    "mdl = create_model(lr)\n",
    "epochs, hist = train_model(mdl, x_train, y_train, \n",
    "                           epochs, batch_size, validation_split)\n"
   ]
  },
  {
   "cell_type": "code",
   "execution_count": 134,
   "metadata": {},
   "outputs": [
    {
     "name": "stdout",
     "output_type": "stream",
     "text": [
      "\u001b[1m2/2\u001b[0m \u001b[32m━━━━━━━━━━━━━━━━━━━━\u001b[0m\u001b[37m\u001b[0m \u001b[1m0s\u001b[0m 5ms/step - accuracy: 0.5745 - loss: 1.6944 \n",
      "Test accuracy: 0.5961538553237915\n"
     ]
    },
    {
     "data": {
      "image/png": "[encoded data removed]",
      "text/plain": [
       "<Figure size 640x480 with 1 Axes>"
      ]
     },
     "metadata": {},
     "output_type": "display_data"
    }
   ],
   "source": [
    "def plot_curve(history):\n",
    "    plt.figure()\n",
    "    plt.plot(history['accuracy'], label='accuracy')\n",
    "    plt.plot(history['val_accuracy'], label = 'val_accuracy')\n",
    "    plt.xlabel('Epoch')\n",
    "    plt.ylabel('Accuracy')\n",
    "    plt.legend(loc='lower right')\n",
    "\n",
    "plot_curve(hist)\n",
    "\n",
    "# Evaluate the model\n",
    "loss, accuracy = mdl.evaluate(x=x_test, y=y_test)\n",
    "print(f\"Test accuracy: {accuracy}\")"
   ]
  },
  {
   "cell_type": "code",
   "execution_count": 137,
   "metadata": {},
   "outputs": [
    {
     "name": "stdout",
     "output_type": "stream",
     "text": [
      "TEST performance = \n",
      "\u001b[1m1/1\u001b[0m \u001b[32m━━━━━━━━━━━━━━━━━━━━\u001b[0m\u001b[37m\u001b[0m \u001b[1m0s\u001b[0m 49ms/step - accuracy: 0.5962 - loss: 1.6573\n"
     ]
    },
    {
     "data": {
      "text/plain": [
       "[1.6572951078414917, 0.5961538553237915]"
      ]
     },
     "execution_count": 137,
     "metadata": {},
     "output_type": "execute_result"
    }
   ],
   "source": [
    "# Test performance\n",
    "print(\"TEST performance = \")\n",
    "mdl.evaluate(x=x_test, y=y_test, batch_size=batch_size)"
   ]
  },
  {
   "cell_type": "code",
   "execution_count": null,
   "metadata": {},
   "outputs": [],
   "source": [
    "# to do: rotate images"
   ]
  }
 ],
 "metadata": {
  "kernelspec": {
   "display_name": "Python 3",
   "language": "python",
   "name": "python3"
  },
  "language_info": {
   "codemirror_mode": {
    "name": "ipython",
    "version": 3
   },
   "file_extension": ".py",
   "mimetype": "text/x-python",
   "name": "python",
   "nbconvert_exporter": "python",
   "pygments_lexer": "ipython3",
   "version": "3.11.8"
  }
 },
 "nbformat": 4,
 "nbformat_minor": 2
}
