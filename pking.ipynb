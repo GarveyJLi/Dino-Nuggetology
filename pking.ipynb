{
 "cells": [
  {
   "cell_type": "code",
   "execution_count": 270,
   "metadata": {},
   "outputs": [],
   "source": [
    "import numpy as np\n",
    "import pandas as pd\n",
    "import tensorflow as tf\n",
    "from tensorflow.keras import layers\n",
    "from matplotlib import pyplot as plt\n",
    "from PIL import Image\n",
    "import numpy as np\n",
    "import os\n",
    "from __future__ import absolute_import, division, print_function, unicode_literals\n",
    "\n",
    "np.random.seed(18)"
   ]
  },
  {
   "cell_type": "code",
   "execution_count": 180,
   "metadata": {},
   "outputs": [],
   "source": [
    "classes = ['bro', 'kro', 'par', 'pte', 'rex', 'ste', 'tri']\n",
    "class_nums = {\n",
    "    'bro' : 0, \n",
    "    'kro': 1, \n",
    "    'par' : 2, \n",
    "    'pte': 3, \n",
    "    'rex': 4, \n",
    "    'ste' : 5, \n",
    "    'tri' : 6\n",
    "}\n",
    "dataset = []\n",
    "\n",
    "for c in classes:\n",
    "    path = 'images/'+ c + '/' + c +'_'\n",
    "    going = True\n",
    "    count = 0\n",
    "    while going:\n",
    "        image_path = path + str(count) + '.jpeg'\n",
    "\n",
    "        if not os.path.isfile(image_path):\n",
    "            going = False \n",
    "            break\n",
    "        \n",
    "        image = Image.open(image_path)\n",
    "        \n",
    "        # Convert the image to grayscale\n",
    "        gray_image = image.convert('L')\n",
    "\n",
    "        # Convert the grayscale image to a NumPy array\n",
    "        image_array = np.array(gray_image)\n",
    "\n",
    "        # Threshold the image to get a binary image\n",
    "        threshold = 128\n",
    "        binary_image = (image_array > threshold).astype(np.uint8)\n",
    "\n",
    "        dataset.append([binary_image, c])\n",
    "        count += 1\n",
    "\n",
    "np.random.shuffle(dataset)"
   ]
  },
  {
   "cell_type": "code",
   "execution_count": 181,
   "metadata": {},
   "outputs": [],
   "source": [
    "# get train-valid data\n",
    "train_num = int(len(dataset) * 0.75)\n",
    "train_data = dataset[0:train_num]\n",
    "valid_data = dataset[train_num:]\n",
    "x_train = np.array([np.array(d[0]) for d in train_data])\n",
    "y_train = np.array([class_nums[d[1]] for d in train_data])\n",
    "x_test = np.array([d[0] for d in valid_data])\n",
    "y_test = np.array([class_nums[d[1]] for d in valid_data])"
   ]
  },
  {
   "cell_type": "code",
   "execution_count": null,
   "metadata": {},
   "outputs": [],
   "source": [
    "# import new dataset\n",
    "\n"
   ]
  },
  {
   "cell_type": "code",
   "execution_count": 268,
   "metadata": {},
   "outputs": [],
   "source": [
    "def create_model(lr):\n",
    "  ''' \n",
    "  neural network model\n",
    "  returns model\n",
    "  '''\n",
    "  model = tf.keras.models.Sequential()\n",
    "  # Flatten 2d array into 1d array\n",
    "  model.add(tf.keras.layers.Flatten(input_shape=(200, 200)))\n",
    "\n",
    "  # LAYERS #\n",
    "  model.add(tf.keras.layers.Dense(units=32, activation='leaky_relu'))\n",
    "  model.add(tf.keras.layers.Dropout(rate=0.1))\n",
    "  model.add(tf.keras.layers.Dense(units=32, activation='leaky_relu'))\n",
    "  model.add(tf.keras.layers.Dropout(rate=0.1))\n",
    "\n",
    "\n",
    "  # new\n",
    "  model.add(tf.keras.layers.Dense(units=32, activation='relu'))\n",
    "  model.add(tf.keras.layers.Dropout(rate=0.1))\n",
    "  model.add(tf.keras.layers.Dense(units=32, activation='relu'))\n",
    "  model.add(tf.keras.layers.Dropout(rate=0.1))\n",
    "  model.add(tf.keras.layers.Dense(units=32, activation='relu'))\n",
    "\n",
    "  model.add(tf.keras.layers.Dense(units=10, activation='softmax'))   \n",
    "\n",
    "  model.compile(optimizer=tf.keras.optimizers.Adam(learning_rate=lr),\n",
    "                loss=\"sparse_categorical_crossentropy\",\n",
    "                metrics=['accuracy'])\n",
    "  \n",
    "  return model    \n",
    "\n",
    "def train_model(model, train_features, train_label, epochs, batch_size=None, validation_split=0.1):\n",
    "  \n",
    "  # fit mdl\n",
    "  history = model.fit(\n",
    "    x=train_features, y=train_label, \n",
    "    batch_size=batch_size, epochs=epochs, \n",
    "    shuffle=True , validation_split=validation_split)\n",
    "  epochs = history.epoch\n",
    "  hist = pd.DataFrame(history.history)\n",
    "  return epochs, hist"
   ]
  },
  {
   "cell_type": "code",
   "execution_count": 269,
   "metadata": {},
   "outputs": [
    {
     "name": "stdout",
     "output_type": "stream",
     "text": [
      "Epoch 1/50\n",
      "\u001b[1m1/1\u001b[0m \u001b[32m━━━━━━━━━━━━━━━━━━━━\u001b[0m\u001b[37m\u001b[0m \u001b[1m2s\u001b[0m 2s/step - accuracy: 0.0650 - loss: 2.2923 - val_accuracy: 0.2903 - val_loss: 2.5188\n",
      "Epoch 2/50\n",
      "\u001b[1m1/1\u001b[0m \u001b[32m━━━━━━━━━━━━━━━━━━━━\u001b[0m\u001b[37m\u001b[0m \u001b[1m0s\u001b[0m 78ms/step - accuracy: 0.2358 - loss: 2.5251 - val_accuracy: 0.2581 - val_loss: 2.1665\n",
      "Epoch 3/50\n",
      "\u001b[1m1/1\u001b[0m \u001b[32m━━━━━━━━━━━━━━━━━━━━\u001b[0m\u001b[37m\u001b[0m \u001b[1m0s\u001b[0m 77ms/step - accuracy: 0.2520 - loss: 2.0258 - val_accuracy: 0.2903 - val_loss: 2.1347\n",
      "Epoch 4/50\n",
      "\u001b[1m1/1\u001b[0m \u001b[32m━━━━━━━━━━━━━━━━━━━━\u001b[0m\u001b[37m\u001b[0m \u001b[1m0s\u001b[0m 91ms/step - accuracy: 0.2439 - loss: 1.9782 - val_accuracy: 0.3871 - val_loss: 2.0691\n",
      "Epoch 5/50\n",
      "\u001b[1m1/1\u001b[0m \u001b[32m━━━━━━━━━━━━━━━━━━━━\u001b[0m\u001b[37m\u001b[0m \u001b[1m0s\u001b[0m 80ms/step - accuracy: 0.3740 - loss: 1.8436 - val_accuracy: 0.3871 - val_loss: 1.9467\n",
      "Epoch 6/50\n",
      "\u001b[1m1/1\u001b[0m \u001b[32m━━━━━━━━━━━━━━━━━━━━\u001b[0m\u001b[37m\u001b[0m \u001b[1m0s\u001b[0m 77ms/step - accuracy: 0.3577 - loss: 1.7324 - val_accuracy: 0.3871 - val_loss: 1.8214\n",
      "Epoch 7/50\n",
      "\u001b[1m1/1\u001b[0m \u001b[32m━━━━━━━━━━━━━━━━━━━━\u001b[0m\u001b[37m\u001b[0m \u001b[1m0s\u001b[0m 76ms/step - accuracy: 0.3902 - loss: 1.5581 - val_accuracy: 0.4194 - val_loss: 1.7246\n",
      "Epoch 8/50\n",
      "\u001b[1m1/1\u001b[0m \u001b[32m━━━━━━━━━━━━━━━━━━━━\u001b[0m\u001b[37m\u001b[0m \u001b[1m0s\u001b[0m 78ms/step - accuracy: 0.4228 - loss: 1.4197 - val_accuracy: 0.4516 - val_loss: 1.6577\n",
      "Epoch 9/50\n",
      "\u001b[1m1/1\u001b[0m \u001b[32m━━━━━━━━━━━━━━━━━━━━\u001b[0m\u001b[37m\u001b[0m \u001b[1m0s\u001b[0m 77ms/step - accuracy: 0.4797 - loss: 1.2755 - val_accuracy: 0.4516 - val_loss: 1.6065\n",
      "Epoch 10/50\n",
      "\u001b[1m1/1\u001b[0m \u001b[32m━━━━━━━━━━━━━━━━━━━━\u001b[0m\u001b[37m\u001b[0m \u001b[1m0s\u001b[0m 77ms/step - accuracy: 0.5610 - loss: 1.1455 - val_accuracy: 0.4516 - val_loss: 1.5528\n",
      "Epoch 11/50\n",
      "\u001b[1m1/1\u001b[0m \u001b[32m━━━━━━━━━━━━━━━━━━━━\u001b[0m\u001b[37m\u001b[0m \u001b[1m0s\u001b[0m 74ms/step - accuracy: 0.5366 - loss: 1.1276 - val_accuracy: 0.5161 - val_loss: 1.5181\n",
      "Epoch 12/50\n",
      "\u001b[1m1/1\u001b[0m \u001b[32m━━━━━━━━━━━━━━━━━━━━\u001b[0m\u001b[37m\u001b[0m \u001b[1m0s\u001b[0m 81ms/step - accuracy: 0.5366 - loss: 1.0739 - val_accuracy: 0.3871 - val_loss: 1.5049\n",
      "Epoch 13/50\n",
      "\u001b[1m1/1\u001b[0m \u001b[32m━━━━━━━━━━━━━━━━━━━━\u001b[0m\u001b[37m\u001b[0m \u001b[1m0s\u001b[0m 86ms/step - accuracy: 0.6098 - loss: 0.9981 - val_accuracy: 0.4839 - val_loss: 1.4660\n",
      "Epoch 14/50\n",
      "\u001b[1m1/1\u001b[0m \u001b[32m━━━━━━━━━━━━━━━━━━━━\u001b[0m\u001b[37m\u001b[0m \u001b[1m0s\u001b[0m 73ms/step - accuracy: 0.6829 - loss: 0.8702 - val_accuracy: 0.5484 - val_loss: 1.4625\n",
      "Epoch 15/50\n",
      "\u001b[1m1/1\u001b[0m \u001b[32m━━━━━━━━━━━━━━━━━━━━\u001b[0m\u001b[37m\u001b[0m \u001b[1m0s\u001b[0m 77ms/step - accuracy: 0.6423 - loss: 0.9127 - val_accuracy: 0.5484 - val_loss: 1.4057\n",
      "Epoch 16/50\n",
      "\u001b[1m1/1\u001b[0m \u001b[32m━━━━━━━━━━━━━━━━━━━━\u001b[0m\u001b[37m\u001b[0m \u001b[1m0s\u001b[0m 78ms/step - accuracy: 0.6992 - loss: 0.7311 - val_accuracy: 0.5161 - val_loss: 1.3562\n",
      "Epoch 17/50\n",
      "\u001b[1m1/1\u001b[0m \u001b[32m━━━━━━━━━━━━━━━━━━━━\u001b[0m\u001b[37m\u001b[0m \u001b[1m0s\u001b[0m 85ms/step - accuracy: 0.6911 - loss: 0.7528 - val_accuracy: 0.5806 - val_loss: 1.2970\n",
      "Epoch 18/50\n",
      "\u001b[1m1/1\u001b[0m \u001b[32m━━━━━━━━━━━━━━━━━━━━\u001b[0m\u001b[37m\u001b[0m \u001b[1m0s\u001b[0m 91ms/step - accuracy: 0.8049 - loss: 0.5720 - val_accuracy: 0.6129 - val_loss: 1.2673\n",
      "Epoch 19/50\n",
      "\u001b[1m1/1\u001b[0m \u001b[32m━━━━━━━━━━━━━━━━━━━━\u001b[0m\u001b[37m\u001b[0m \u001b[1m0s\u001b[0m 81ms/step - accuracy: 0.8049 - loss: 0.5085 - val_accuracy: 0.5806 - val_loss: 1.2279\n",
      "Epoch 20/50\n",
      "\u001b[1m1/1\u001b[0m \u001b[32m━━━━━━━━━━━━━━━━━━━━\u001b[0m\u001b[37m\u001b[0m \u001b[1m0s\u001b[0m 80ms/step - accuracy: 0.8130 - loss: 0.5009 - val_accuracy: 0.5806 - val_loss: 1.1971\n",
      "Epoch 21/50\n",
      "\u001b[1m1/1\u001b[0m \u001b[32m━━━━━━━━━━━━━━━━━━━━\u001b[0m\u001b[37m\u001b[0m \u001b[1m0s\u001b[0m 87ms/step - accuracy: 0.8618 - loss: 0.4624 - val_accuracy: 0.5806 - val_loss: 1.2074\n",
      "Epoch 22/50\n",
      "\u001b[1m1/1\u001b[0m \u001b[32m━━━━━━━━━━━━━━━━━━━━\u001b[0m\u001b[37m\u001b[0m \u001b[1m0s\u001b[0m 94ms/step - accuracy: 0.8293 - loss: 0.4926 - val_accuracy: 0.5484 - val_loss: 1.2256\n",
      "Epoch 23/50\n",
      "\u001b[1m1/1\u001b[0m \u001b[32m━━━━━━━━━━━━━━━━━━━━\u001b[0m\u001b[37m\u001b[0m \u001b[1m0s\u001b[0m 89ms/step - accuracy: 0.8455 - loss: 0.3525 - val_accuracy: 0.5161 - val_loss: 1.2376\n",
      "Epoch 24/50\n",
      "\u001b[1m1/1\u001b[0m \u001b[32m━━━━━━━━━━━━━━━━━━━━\u001b[0m\u001b[37m\u001b[0m \u001b[1m0s\u001b[0m 83ms/step - accuracy: 0.8293 - loss: 0.4156 - val_accuracy: 0.4839 - val_loss: 1.2622\n",
      "Epoch 25/50\n",
      "\u001b[1m1/1\u001b[0m \u001b[32m━━━━━━━━━━━━━━━━━━━━\u001b[0m\u001b[37m\u001b[0m \u001b[1m0s\u001b[0m 73ms/step - accuracy: 0.8862 - loss: 0.2789 - val_accuracy: 0.5161 - val_loss: 1.3242\n",
      "Epoch 26/50\n",
      "\u001b[1m1/1\u001b[0m \u001b[32m━━━━━━━━━━━━━━━━━━━━\u001b[0m\u001b[37m\u001b[0m \u001b[1m0s\u001b[0m 81ms/step - accuracy: 0.8862 - loss: 0.3653 - val_accuracy: 0.5484 - val_loss: 1.4619\n",
      "Epoch 27/50\n",
      "\u001b[1m1/1\u001b[0m \u001b[32m━━━━━━━━━━━━━━━━━━━━\u001b[0m\u001b[37m\u001b[0m \u001b[1m0s\u001b[0m 76ms/step - accuracy: 0.8374 - loss: 0.4195 - val_accuracy: 0.5161 - val_loss: 1.5205\n",
      "Epoch 28/50\n",
      "\u001b[1m1/1\u001b[0m \u001b[32m━━━━━━━━━━━━━━━━━━━━\u001b[0m\u001b[37m\u001b[0m \u001b[1m0s\u001b[0m 78ms/step - accuracy: 0.9512 - loss: 0.1744 - val_accuracy: 0.5161 - val_loss: 1.5900\n",
      "Epoch 29/50\n",
      "\u001b[1m1/1\u001b[0m \u001b[32m━━━━━━━━━━━━━━━━━━━━\u001b[0m\u001b[37m\u001b[0m \u001b[1m0s\u001b[0m 80ms/step - accuracy: 0.9187 - loss: 0.2938 - val_accuracy: 0.5484 - val_loss: 1.7303\n",
      "Epoch 30/50\n",
      "\u001b[1m1/1\u001b[0m \u001b[32m━━━━━━━━━━━━━━━━━━━━\u001b[0m\u001b[37m\u001b[0m \u001b[1m0s\u001b[0m 104ms/step - accuracy: 0.9187 - loss: 0.2565 - val_accuracy: 0.5484 - val_loss: 1.8750\n",
      "Epoch 31/50\n",
      "\u001b[1m1/1\u001b[0m \u001b[32m━━━━━━━━━━━━━━━━━━━━\u001b[0m\u001b[37m\u001b[0m \u001b[1m0s\u001b[0m 101ms/step - accuracy: 0.9024 - loss: 0.2416 - val_accuracy: 0.5806 - val_loss: 1.9128\n",
      "Epoch 32/50\n",
      "\u001b[1m1/1\u001b[0m \u001b[32m━━━━━━━━━━━━━━━━━━━━\u001b[0m\u001b[37m\u001b[0m \u001b[1m0s\u001b[0m 111ms/step - accuracy: 0.9350 - loss: 0.1932 - val_accuracy: 0.5806 - val_loss: 1.9652\n",
      "Epoch 33/50\n",
      "\u001b[1m1/1\u001b[0m \u001b[32m━━━━━━━━━━━━━━━━━━━━\u001b[0m\u001b[37m\u001b[0m \u001b[1m0s\u001b[0m 78ms/step - accuracy: 0.9756 - loss: 0.1018 - val_accuracy: 0.5806 - val_loss: 1.9730\n",
      "Epoch 34/50\n",
      "\u001b[1m1/1\u001b[0m \u001b[32m━━━━━━━━━━━━━━━━━━━━\u001b[0m\u001b[37m\u001b[0m \u001b[1m0s\u001b[0m 76ms/step - accuracy: 0.9268 - loss: 0.1776 - val_accuracy: 0.5806 - val_loss: 1.8794\n",
      "Epoch 35/50\n",
      "\u001b[1m1/1\u001b[0m \u001b[32m━━━━━━━━━━━━━━━━━━━━\u001b[0m\u001b[37m\u001b[0m \u001b[1m0s\u001b[0m 81ms/step - accuracy: 0.9837 - loss: 0.1259 - val_accuracy: 0.5806 - val_loss: 1.7946\n",
      "Epoch 36/50\n",
      "\u001b[1m1/1\u001b[0m \u001b[32m━━━━━━━━━━━━━━━━━━━━\u001b[0m\u001b[37m\u001b[0m \u001b[1m0s\u001b[0m 79ms/step - accuracy: 0.9512 - loss: 0.1224 - val_accuracy: 0.5806 - val_loss: 1.7494\n",
      "Epoch 37/50\n",
      "\u001b[1m1/1\u001b[0m \u001b[32m━━━━━━━━━━━━━━━━━━━━\u001b[0m\u001b[37m\u001b[0m \u001b[1m0s\u001b[0m 88ms/step - accuracy: 0.9675 - loss: 0.1220 - val_accuracy: 0.5806 - val_loss: 1.6860\n",
      "Epoch 38/50\n",
      "\u001b[1m1/1\u001b[0m \u001b[32m━━━━━━━━━━━━━━━━━━━━\u001b[0m\u001b[37m\u001b[0m \u001b[1m0s\u001b[0m 89ms/step - accuracy: 0.9756 - loss: 0.0980 - val_accuracy: 0.5484 - val_loss: 1.6635\n",
      "Epoch 39/50\n",
      "\u001b[1m1/1\u001b[0m \u001b[32m━━━━━━━━━━━━━━━━━━━━\u001b[0m\u001b[37m\u001b[0m \u001b[1m0s\u001b[0m 88ms/step - accuracy: 0.9512 - loss: 0.1847 - val_accuracy: 0.5806 - val_loss: 1.6204\n",
      "Epoch 40/50\n",
      "\u001b[1m1/1\u001b[0m \u001b[32m━━━━━━━━━━━━━━━━━━━━\u001b[0m\u001b[37m\u001b[0m \u001b[1m0s\u001b[0m 89ms/step - accuracy: 0.9350 - loss: 0.1374 - val_accuracy: 0.5161 - val_loss: 1.6343\n",
      "Epoch 41/50\n",
      "\u001b[1m1/1\u001b[0m \u001b[32m━━━━━━━━━━━━━━━━━━━━\u001b[0m\u001b[37m\u001b[0m \u001b[1m0s\u001b[0m 80ms/step - accuracy: 0.9837 - loss: 0.0565 - val_accuracy: 0.5161 - val_loss: 1.6683\n",
      "Epoch 42/50\n",
      "\u001b[1m1/1\u001b[0m \u001b[32m━━━━━━━━━━━━━━━━━━━━\u001b[0m\u001b[37m\u001b[0m \u001b[1m0s\u001b[0m 77ms/step - accuracy: 0.9756 - loss: 0.1263 - val_accuracy: 0.5484 - val_loss: 1.7753\n",
      "Epoch 43/50\n",
      "\u001b[1m1/1\u001b[0m \u001b[32m━━━━━━━━━━━━━━━━━━━━\u001b[0m\u001b[37m\u001b[0m \u001b[1m0s\u001b[0m 78ms/step - accuracy: 0.9837 - loss: 0.0911 - val_accuracy: 0.5806 - val_loss: 1.8904\n",
      "Epoch 44/50\n",
      "\u001b[1m1/1\u001b[0m \u001b[32m━━━━━━━━━━━━━━━━━━━━\u001b[0m\u001b[37m\u001b[0m \u001b[1m0s\u001b[0m 79ms/step - accuracy: 0.9837 - loss: 0.0745 - val_accuracy: 0.5806 - val_loss: 1.9656\n",
      "Epoch 45/50\n",
      "\u001b[1m1/1\u001b[0m \u001b[32m━━━━━━━━━━━━━━━━━━━━\u001b[0m\u001b[37m\u001b[0m \u001b[1m0s\u001b[0m 81ms/step - accuracy: 0.9675 - loss: 0.0957 - val_accuracy: 0.5161 - val_loss: 1.9507\n",
      "Epoch 46/50\n",
      "\u001b[1m1/1\u001b[0m \u001b[32m━━━━━━━━━━━━━━━━━━━━\u001b[0m\u001b[37m\u001b[0m \u001b[1m0s\u001b[0m 77ms/step - accuracy: 0.9593 - loss: 0.0990 - val_accuracy: 0.5484 - val_loss: 1.9067\n",
      "Epoch 47/50\n",
      "\u001b[1m1/1\u001b[0m \u001b[32m━━━━━━━━━━━━━━━━━━━━\u001b[0m\u001b[37m\u001b[0m \u001b[1m0s\u001b[0m 78ms/step - accuracy: 0.9837 - loss: 0.0515 - val_accuracy: 0.5161 - val_loss: 1.8952\n",
      "Epoch 48/50\n",
      "\u001b[1m1/1\u001b[0m \u001b[32m━━━━━━━━━━━━━━━━━━━━\u001b[0m\u001b[37m\u001b[0m \u001b[1m0s\u001b[0m 81ms/step - accuracy: 0.9756 - loss: 0.0769 - val_accuracy: 0.5806 - val_loss: 1.8871\n",
      "Epoch 49/50\n",
      "\u001b[1m1/1\u001b[0m \u001b[32m━━━━━━━━━━━━━━━━━━━━\u001b[0m\u001b[37m\u001b[0m \u001b[1m0s\u001b[0m 81ms/step - accuracy: 0.9675 - loss: 0.1356 - val_accuracy: 0.6129 - val_loss: 1.8932\n",
      "Epoch 50/50\n",
      "\u001b[1m1/1\u001b[0m \u001b[32m━━━━━━━━━━━━━━━━━━━━\u001b[0m\u001b[37m\u001b[0m \u001b[1m0s\u001b[0m 86ms/step - accuracy: 0.9593 - loss: 0.1102 - val_accuracy: 0.6129 - val_loss: 1.8580\n",
      "\n",
      "\n",
      "TEST performance = \n",
      "\u001b[1m1/1\u001b[0m \u001b[32m━━━━━━━━━━━━━━━━━━━━\u001b[0m\u001b[37m\u001b[0m \u001b[1m0s\u001b[0m 36ms/step - accuracy: 0.5769 - loss: 3.2014\n"
     ]
    },
    {
     "data": {
      "text/plain": [
       "[3.201432228088379, 0.5769230723381042]"
      ]
     },
     "execution_count": 269,
     "metadata": {},
     "output_type": "execute_result"
    }
   ],
   "source": [
    "# hyperparams\n",
    "lr =0.003\n",
    "epochs = 50\n",
    "batch_size = 4000\n",
    "validation_split = 0.2\n",
    "\n",
    "# Training model\n",
    "mdl = create_model(lr)\n",
    "epochs, hist = train_model(mdl, x_train, y_train, \n",
    "                        epochs, batch_size, validation_split)\n",
    "\n",
    "# Test performance\n",
    "print(\"\\n\\nTEST performance = \")\n",
    "mdl.evaluate(x=x_test, y=y_test, batch_size=batch_size)"
   ]
  },
  {
   "cell_type": "code",
   "execution_count": null,
   "metadata": {},
   "outputs": [],
   "source": []
  },
  {
   "cell_type": "code",
   "execution_count": 222,
   "metadata": {},
   "outputs": [
    {
     "name": "stdout",
     "output_type": "stream",
     "text": [
      "\u001b[1m2/2\u001b[0m \u001b[32m━━━━━━━━━━━━━━━━━━━━\u001b[0m\u001b[37m\u001b[0m \u001b[1m0s\u001b[0m 4ms/step - accuracy: 0.5337 - loss: 2.6123 \n",
      "Test accuracy: 0.5192307829856873\n"
     ]
    },
    {
     "data": {
      "image/png": "[encoded data removed]",
      "text/plain": [
       "<Figure size 640x480 with 1 Axes>"
      ]
     },
     "metadata": {},
     "output_type": "display_data"
    }
   ],
   "source": [
    "def plot_curve(history):\n",
    "    plt.figure()\n",
    "    plt.plot(history['accuracy'], label='accuracy')\n",
    "    plt.plot(history['val_accuracy'], label = 'val_accuracy')\n",
    "    plt.xlabel('Epoch')\n",
    "    plt.ylabel('Accuracy')\n",
    "    plt.legend(loc='lower right')\n",
    "\n",
    "\n",
    "mdl = create_model(lr)\n",
    "epochs, hist = train_model(mdl, x_train, y_train, \n",
    "                            epochs, batch_size, validation_split)\n",
    "plot_curve(hist)\n",
    "\n",
    "# Evaluate the model\n",
    "loss, accuracy = mdl.evaluate(x=x_test, y=y_test)\n",
    "print(f\"Test accuracy: {accuracy}\")"
   ]
  },
  {
   "cell_type": "code",
   "execution_count": 223,
   "metadata": {},
   "outputs": [
    {
     "name": "stdout",
     "output_type": "stream",
     "text": [
      "TEST performance = \n",
      "\u001b[1m1/1\u001b[0m \u001b[32m━━━━━━━━━━━━━━━━━━━━\u001b[0m\u001b[37m\u001b[0m \u001b[1m0s\u001b[0m 57ms/step - accuracy: 0.5192 - loss: 2.6062\n"
     ]
    },
    {
     "data": {
      "text/plain": [
       "[2.6062047481536865, 0.5192307829856873]"
      ]
     },
     "execution_count": 223,
     "metadata": {},
     "output_type": "execute_result"
    }
   ],
   "source": [
    "# Test performance\n",
    "print(\"TEST performance = \")\n",
    "mdl.evaluate(x=x_test, y=y_test, batch_size=batch_size)"
   ]
  },
  {
   "cell_type": "code",
   "execution_count": 198,
   "metadata": {},
   "outputs": [],
   "source": [
    "# to do: rotate images"
   ]
  },
  {
   "cell_type": "code",
   "execution_count": null,
   "metadata": {},
   "outputs": [],
   "source": []
  }
 ],
 "metadata": {
  "kernelspec": {
   "display_name": "Python 3",
   "language": "python",
   "name": "python3"
  },
  "language_info": {
   "codemirror_mode": {
    "name": "ipython",
    "version": 3
   },
   "file_extension": ".py",
   "mimetype": "text/x-python",
   "name": "python",
   "nbconvert_exporter": "python",
   "pygments_lexer": "ipython3",
   "version": "3.11.8"
  }
 },
 "nbformat": 4,
 "nbformat_minor": 2
}
