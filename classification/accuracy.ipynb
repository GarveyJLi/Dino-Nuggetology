{
 "cells": [
  {
   "cell_type": "code",
   "execution_count": 4,
   "metadata": {},
   "outputs": [
    {
     "name": "stdout",
     "output_type": "stream",
     "text": [
      "Using device: cuda\n"
     ]
    }
   ],
   "source": [
    "import torch\n",
    "import torch.nn as nn\n",
    "import torch.optim as optim\n",
    "from torchvision import transforms\n",
    "from torch.utils.data import Dataset, DataLoader\n",
    "import torch.nn.functional as F\n",
    "from sklearn.model_selection import train_test_split\n",
    "\n",
    "\n",
    "from PIL import Image\n",
    "import numpy as np\n",
    "\n",
    "import os\n",
    "\n",
    "device = torch.device(\"cuda\" if torch.cuda.is_available() else \"cpu\")\n",
    "print(\"Using device:\", device)"
   ]
  },
  {
   "cell_type": "code",
   "execution_count": 8,
   "metadata": {},
   "outputs": [],
   "source": [
    "# autoencoder code borrowed from patrickloeber: https://github.com/patrickloeber/pytorch-examples/blob/master/Autoencoder.ipynb\n",
    "\n",
    "class Conv_AutoEncoder(nn.Module):\n",
    "    def __init__(self):\n",
    "        super().__init__() \n",
    "        self.encoder = nn.Sequential(\n",
    "            nn.Conv2d(1, 8, 4, stride = 3, padding = 1), # 32, 16, 67, 67\n",
    "            nn.ReLU(),\n",
    "            nn.Conv2d(8, 16, 3, stride = 2, padding = 1),# 32, 32, 34, 34\n",
    "            nn.ReLU(),\n",
    "            nn.Conv2d(16, 32, 3, stride = 2, padding = 1), # 32, 32, 17, 17\n",
    "            nn.ReLU(),\n",
    "            nn.Flatten(),\n",
    "            nn.Linear(32 * 17 * 17, 3000),\n",
    "        )\n",
    "        \n",
    "        self.decoder = nn.Sequential(\n",
    "            nn.Linear(3000, 32 * 17 * 17),\n",
    "            nn.ReLU(),\n",
    "            nn.Unflatten(dim = 1, unflattened_size=(32, 17, 17)),\n",
    "            nn.ReLU(),\n",
    "            nn.ConvTranspose2d(32, 16, 3, stride = 2, padding = 1, output_padding=1),\n",
    "            nn.ReLU(),\n",
    "            nn.ConvTranspose2d(16, 8, 3, stride = 2, padding = 1),\n",
    "            nn.ReLU(),\n",
    "            nn.ConvTranspose2d(8, 1, 4, stride = 3, padding = 1),\n",
    "            nn.Sigmoid()\n",
    "        )\n",
    "\n",
    "    def forward(self, x):\n",
    "        encoded = self.encoder(x)\n",
    "        decoded = self.decoder(encoded)\n",
    "        return decoded"
   ]
  },
  {
   "cell_type": "code",
   "execution_count": 5,
   "metadata": {},
   "outputs": [],
   "source": [
    "class CustomDataset(Dataset):\n",
    "    def __init__(self, root_dir, file_list, transform=None):\n",
    "        self.root_dir = root_dir\n",
    "        self.transform = transform\n",
    "        self.file_list = file_list\n",
    "\n",
    "    def __len__(self):\n",
    "        return len(self.file_list)\n",
    "\n",
    "    def __getitem__(self, idx):\n",
    "        img_name = self.file_list[0]\n",
    "        img_name = os.path.join(self.root_dir, img_name)\n",
    "        image = Image.open(img_name)\n",
    "        if self.transform:\n",
    "            image = self.transform(image)\n",
    "        return image\n",
    "\n",
    "# Define transformations to apply to your images\n",
    "transform = transforms.Compose([\n",
    "    # transforms.Resize((200, 200)), # not necessary, since images are already 200x200\n",
    "    transforms.Grayscale(num_output_channels=1),\n",
    "    transforms.ToTensor(),\n",
    "])\n"
   ]
  },
  {
   "cell_type": "code",
   "execution_count": 6,
   "metadata": {},
   "outputs": [],
   "source": [
    "# perform train test split\n",
    "# iterate through all subfolders (rex, tri, etc)\n",
    "current_dir = os.getcwd()\n",
    "project_dir = os.path.dirname(current_dir)\n",
    "images_dir = os.path.join(project_dir, 'augmented_images')\n",
    "\n",
    "file_list = []\n",
    "\n",
    "for folder in os.listdir(images_dir):\n",
    "    if folder == 'mis':\n",
    "        continue\n",
    "    folder_fp = os.path.join(images_dir, folder) \n",
    "    for img in os.listdir(folder_fp):\n",
    "        file_list.append(os.path.join(folder_fp, img))\n",
    "\n",
    "train_indices, val_indices = train_test_split(range(len(file_list)), test_size=0.2, random_state=42)\n",
    "train_files = [file_list[i] for i in train_indices]\n",
    "validation_files = [file_list[i] for i in val_indices]"
   ]
  },
  {
   "cell_type": "code",
   "execution_count": 21,
   "metadata": {},
   "outputs": [
    {
     "data": {
      "text/plain": [
       "1901"
      ]
     },
     "execution_count": 21,
     "metadata": {},
     "output_type": "execute_result"
    }
   ],
   "source": [
    "len(validation_files)"
   ]
  },
  {
   "cell_type": "code",
   "execution_count": 24,
   "metadata": {},
   "outputs": [],
   "source": [
    "current_dir = os.getcwd()\n",
    "project_dir = os.path.dirname(current_dir)\n",
    "images_dir = os.path.join(project_dir, 'augmented_images')\n",
    "\n",
    "validation = CustomDataset(file_list = validation_files, root_dir = images_dir, transform=transform)\n",
    "\n",
    "# Create a dataloader\n",
    "batch_size = 32\n",
    "validation_loader = DataLoader(validation, batch_size=batch_size, shuffle=True)\n",
    "\n",
    "misformed_images_dir = os.path.join(project_dir, 'augmented_images')\n",
    "\n",
    "mis_dir = os.path.join(misformed_images_dir, 'mis')\n",
    "mis_files = []\n",
    "\n",
    "for img in os.listdir(mis_dir):\n",
    "    mis_files.append(os.path.join(mis_dir, img))\n",
    "\n",
    "\n",
    "misformed = CustomDataset(file_list = mis_files, root_dir = images_dir, transform=transform)\n",
    "misformed_loader = DataLoader(misformed, batch_size=batch_size, shuffle=False)"
   ]
  },
  {
   "cell_type": "code",
   "execution_count": 25,
   "metadata": {},
   "outputs": [
    {
     "data": {
      "text/plain": [
       "Conv_AutoEncoder(\n",
       "  (encoder): Sequential(\n",
       "    (0): Conv2d(1, 8, kernel_size=(4, 4), stride=(3, 3), padding=(1, 1))\n",
       "    (1): ReLU()\n",
       "    (2): Conv2d(8, 16, kernel_size=(3, 3), stride=(2, 2), padding=(1, 1))\n",
       "    (3): ReLU()\n",
       "    (4): Conv2d(16, 32, kernel_size=(3, 3), stride=(2, 2), padding=(1, 1))\n",
       "    (5): ReLU()\n",
       "    (6): Flatten(start_dim=1, end_dim=-1)\n",
       "    (7): Linear(in_features=9248, out_features=3000, bias=True)\n",
       "  )\n",
       "  (decoder): Sequential(\n",
       "    (0): Linear(in_features=3000, out_features=9248, bias=True)\n",
       "    (1): ReLU()\n",
       "    (2): Unflatten(dim=1, unflattened_size=(32, 17, 17))\n",
       "    (3): ReLU()\n",
       "    (4): ConvTranspose2d(32, 16, kernel_size=(3, 3), stride=(2, 2), padding=(1, 1), output_padding=(1, 1))\n",
       "    (5): ReLU()\n",
       "    (6): ConvTranspose2d(16, 8, kernel_size=(3, 3), stride=(2, 2), padding=(1, 1))\n",
       "    (7): ReLU()\n",
       "    (8): ConvTranspose2d(8, 1, kernel_size=(4, 4), stride=(3, 3), padding=(1, 1))\n",
       "    (9): Sigmoid()\n",
       "  )\n",
       ")"
      ]
     },
     "execution_count": 25,
     "metadata": {},
     "output_type": "execute_result"
    }
   ],
   "source": [
    "model = Conv_AutoEncoder()\n",
    "model.load_state_dict(torch.load('C:\\\\Users\\\\So\\\\Documents\\\\code\\\\datahacks_2024\\\\classification\\\\validated_conv_autoencoder_50_epochs.pth'))\n",
    "model.to(device)"
   ]
  },
  {
   "cell_type": "code",
   "execution_count": 35,
   "metadata": {},
   "outputs": [],
   "source": [
    "test = {\n",
    "    'og': [],\n",
    "    'recon': []\n",
    "}\n",
    "\n",
    "anomaly_test = {\n",
    "    'og': [],\n",
    "    'recon': []\n",
    "}\n",
    "\n",
    "for img in validation_loader:\n",
    "    img = img.to(device)\n",
    "    # img = img.reshape(-1, 200*200)\n",
    "    recon = model(img)\n",
    "    test['og'].append(img)\n",
    "    test['recon'].append(recon)\n",
    "\n",
    "\n",
    "for img in misformed_loader:\n",
    "    img = img.to(device)\n",
    "    # img = img.reshape(-1, 200*200)\n",
    "    recon = model(img)\n",
    "    anomaly_test['og'].append(img)\n",
    "    anomaly_test['recon'].append(recon)"
   ]
  },
  {
   "cell_type": "code",
   "execution_count": 36,
   "metadata": {},
   "outputs": [],
   "source": [
    "normal_mse = []\n",
    "for batch_n in range(len(test['og'])):\n",
    "    for i in range(len(test['og'][batch_n])):\n",
    "        og = test['og'][batch_n][i].squeeze()\n",
    "        recon = test['recon'][batch_n][i].squeeze()\n",
    "        normal_mse.append(F.mse_loss(og, recon).item())\n",
    "\n",
    "disformed_mse = []\n",
    "for batch_n in range(len(anomaly_test['og'])):\n",
    "    for i in range(len(anomaly_test['og'][batch_n])):\n",
    "        og = anomaly_test['og'][batch_n][i].squeeze()\n",
    "        recon = anomaly_test['recon'][batch_n][i].squeeze()\n",
    "        disformed_mse.append(F.mse_loss(og, recon).item())\n",
    "\n",
    "normal_mse, disformed_mse = np.array(normal_mse), np.array(disformed_mse)"
   ]
  },
  {
   "cell_type": "code",
   "execution_count": 39,
   "metadata": {},
   "outputs": [
    {
     "data": {
      "text/plain": [
       "(7.552036462675999e-12, 0.0028299184050410986)"
      ]
     },
     "execution_count": 39,
     "metadata": {},
     "output_type": "execute_result"
    }
   ],
   "source": [
    "normal_mse.std(), normal_mse.mean()"
   ]
  },
  {
   "cell_type": "code",
   "execution_count": null,
   "metadata": {},
   "outputs": [],
   "source": [
    "disformed_mse.std(), disformed_mse.mean()"
   ]
  },
  {
   "cell_type": "code",
   "execution_count": null,
   "metadata": {},
   "outputs": [],
   "source": []
  }
 ],
 "metadata": {
  "kernelspec": {
   "display_name": "shazam",
   "language": "python",
   "name": "python3"
  },
  "language_info": {
   "codemirror_mode": {
    "name": "ipython",
    "version": 3
   },
   "file_extension": ".py",
   "mimetype": "text/x-python",
   "name": "python",
   "nbconvert_exporter": "python",
   "pygments_lexer": "ipython3",
   "version": "3.11.3"
  }
 },
 "nbformat": 4,
 "nbformat_minor": 2
}
